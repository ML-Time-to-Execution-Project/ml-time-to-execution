{
 "cells": [
  {
   "cell_type": "markdown",
   "metadata": {},
   "source": [
    "# Package and Parameter Preparing"
   ]
  },
  {
   "cell_type": "code",
   "execution_count": 67,
   "metadata": {},
   "outputs": [],
   "source": [
    "# load packages\n",
    "import pandas as pd\n",
    "import pickle\n",
    "import numpy as np\n",
    "import matplotlib.pyplot as plt\n",
    "from datetime import datetime\n",
    "from tqdm import tqdm \n",
    "from sklearn.metrics import accuracy_score, classification_report\n",
    "\n",
    "import torch\n",
    "import torch.nn.functional as F\n",
    "from torch.utils import data\n",
    "from torchsummary import summary\n",
    "import torch.nn as nn\n",
    "import torch.optim as optim\n",
    "import os"
   ]
  },
  {
   "cell_type": "code",
   "execution_count": 69,
   "metadata": {},
   "outputs": [],
   "source": [
    "# data parameter setting\n",
    "tte_path = '../data/data_tte'\n",
    "lob_path = '../data/data_lob'\n",
    "\n",
    "time_span = 100\n",
    "level_span = 10\n",
    "train_val_ratio = 0.8\n",
    "\n",
    "batch_size = 64\n",
    "\n",
    "# cnn_lstm parameter setting\n",
    "\n",
    "filter_num = 32\n",
    "time_y = 10\n",
    "\n",
    "# MLP parameter setting\n",
    "\n",
    "hidden_size1 = 50\n",
    "hidden_size2 = 20\n",
    "\n",
    "# forward parameter setting\n",
    "\n",
    "epochs =50\n",
    "time_y = 10\n",
    "learning_rate = 0.001\n",
    "censor_weight = 0.1\n",
    "time_weight = 1\n",
    "input_size = 102\n",
    "\n"
   ]
  },
  {
   "cell_type": "markdown",
   "metadata": {},
   "source": [
    "# Data processing"
   ]
  },
  {
   "cell_type": "code",
   "execution_count": 70,
   "metadata": {},
   "outputs": [],
   "source": [
    "# data processing function\n",
    "# ---------------------------------------------------------------------\n",
    "def prepare_order(data, time_span, level_span, trans):\n",
    "    [N, D] = data.shape\n",
    "    # N:time num D:feature num\n",
    "    df = np.array(data)\n",
    "    if trans == True:\n",
    "        df = (df - df.mean())/(df.std())\n",
    "\n",
    "    # 3 dims: sample,time,feature\n",
    "    dataX = np.zeros((N - time_span, time_span, 4*level_span))\n",
    "\n",
    "    for i in range(time_span, N):\n",
    "        dataX[i - time_span] = df[i - time_span:i, 0:4*level_span]\n",
    "\n",
    "    return dataX\n",
    "\n",
    "\n",
    "def prepare_timex(mess_data, order_index, time_span):\n",
    "    # mess_data = np.array(mess_data)\n",
    "    index_list = map(int, mess_data[:,0])\n",
    "    # index_list = int(mess_data[:,0])\n",
    "\n",
    "    time_feature = [order_index[i-time_span] for i in index_list]\n",
    "\n",
    "    return np.array(time_feature)\n",
    "\n",
    "\n",
    "def prepare_prex(mess_data,trans):\n",
    "    # mess_data = np.array(mess_data)\n",
    "\n",
    "    pre_feature = mess_data[:,4:]\n",
    "    if trans == True:\n",
    "        pre_feature = (pre_feature - pre_feature.mean())/(pre_feature.std())\n",
    "\n",
    "    return pre_feature\n",
    "\n",
    "def prepare_sub_prex(mess_data, lob_mess_data, trans):\n",
    "    mess_data = np.array(mess_data)\n",
    "    lob_mess_data = np.array(lob_mess_data)\n",
    "    index_list = map(int, mess_data[:,0])\n",
    "\n",
    "    pre_sub_feature = [lob_mess_data[i,3:5] for i in index_list]\n",
    "    pre_sub_feature = np.array(pre_sub_feature)\n",
    "    if trans == True:\n",
    "        pre_sub_feature = (pre_sub_feature - pre_sub_feature.mean())/(pre_sub_feature.std())\n",
    "    return pre_sub_feature\n",
    "    \n",
    "\n",
    "\n",
    "\n",
    "    "
   ]
  },
  {
   "cell_type": "code",
   "execution_count": 71,
   "metadata": {},
   "outputs": [],
   "source": [
    "class Dataset(data.Dataset):\n",
    "    \"\"\"Characterizes a dataset for PyTorch\"\"\"\n",
    "    def __init__(self, mess_data, order_data, lob_mess_data, time_span, level_span, trans):\n",
    "        \"\"\"Initialization\"\"\" \n",
    "        self.time_span = time_span\n",
    "        self.level_span = level_span\n",
    "            \n",
    "        # trans the order data into 4 dim data \n",
    "        order_index = prepare_order(order_data, time_span, level_span, trans)\n",
    "\n",
    "        # according the message in mess_data to get the time feature\n",
    "        time_feature = prepare_timex(mess_data, order_index, time_span)\n",
    "\n",
    "        # according the message in mess_data to get the present feature\n",
    "        pre_feature = prepare_prex(mess_data, trans)\n",
    "\n",
    "        # according the order submission information in lob_mess_data to get another present feature\n",
    "        pre_sub_feature = prepare_sub_prex(mess_data, lob_mess_data, trans)\n",
    "\n",
    "        # get the time and censor label\n",
    "        y = mess_data[:,1:3]\n",
    "\n",
    "        if trans==True:\n",
    "            a = y[:,0]\n",
    "            # b = np.log(y[:,1])\n",
    "            b = y[:,1]\n",
    "            b = (b - b.mean())/(b.std())\n",
    "            a = np.expand_dims(a,axis=1)\n",
    "            b = np.expand_dims(b,axis=1)\n",
    "            y = np.concatenate((a,b),axis=1)\n",
    "        # len(x) get the sample num\n",
    "        self.length = len(mess_data)\n",
    "\n",
    "        time_feature = torch.from_numpy(time_feature)\n",
    "        self.time_feature = torch.unsqueeze(time_feature, 1)\n",
    "        self.pre_feature = torch.from_numpy(pre_feature)\n",
    "        self.pre_sub_feature = torch.from_numpy(pre_sub_feature)\n",
    "        self.y = torch.from_numpy(y)\n",
    "        self.pre_feature = torch.concat((self.pre_feature,self.pre_sub_feature),1)\n",
    "\n",
    "    def __len__(self):\n",
    "        \"\"\"Denotes the total number of samples\"\"\"\n",
    "        return self.length\n",
    "\n",
    "    def __getitem__(self, index):\n",
    "        \"\"\"Generates samples of data\"\"\"\n",
    "        # we can return three parameters\n",
    "        return self.time_feature[index], self.pre_feature[index], self.y[index]"
   ]
  },
  {
   "cell_type": "code",
   "execution_count": 77,
   "metadata": {},
   "outputs": [
    {
     "name": "stdout",
     "output_type": "stream",
     "text": [
      "202.0\n",
      "202\n",
      "202\n",
      "51\n",
      "202\n",
      "202\n",
      "51\n",
      "51\n"
     ]
    }
   ],
   "source": [
    "# iterate the file and get dataset list\n",
    "file_name = os.listdir(tte_path)\n",
    "print(np.floor(len(file_name)*0.8))\n",
    "print(int(np.floor(len(file_name) * train_val_ratio)))\n",
    "train_file = file_name[:int(np.floor(len(file_name) * train_val_ratio))]\n",
    "val_file = file_name[int(np.floor(len(file_name) * train_val_ratio)):]\n",
    "# mess_data = np.loadtxt(tte_path+'/'+train_file[0],skiprows=1,encoding='utf-8')\n",
    "# train_file = ['34200_3900_NFLX_2017-05-01_tte.txt']\n",
    "print(len(train_file))\n",
    "print(len(val_file))\n",
    "# train_data_list = []\n",
    "train_dataloader_list = []\n",
    "# val_data_list = []\n",
    "val_dataloader_list = []\n",
    "a=[]\n",
    "b=[]\n",
    "c=[]\n",
    "d=[]\n",
    "for i in train_file:\n",
    "    order_file = [name for name in os.listdir(lob_path) if name.startswith(i[:-8]) and name.endswith('orderbook_50.csv') ]\n",
    "    mess_file = [name for name in os.listdir(lob_path) if name.startswith(i[:-8]) and name.endswith('message_50.csv') ]\n",
    "    a.append(order_file[0])\n",
    "    b.append(mess_file[0])\n",
    "for i in val_file:\n",
    "    order_file = [name for name in os.listdir(lob_path) if name.startswith(i[:-8]) and name.endswith('orderbook_50.csv') ]\n",
    "    mess_file = [name for name in os.listdir(lob_path) if name.startswith(i[:-8]) and name.endswith('message_50.csv') ]\n",
    "    c.append(order_file[0])\n",
    "    d.append(mess_file[0])\n",
    "print(len(a))\n",
    "print(len(b))\n",
    "print(len(c))\n",
    "print(len(d))"
   ]
  },
  {
   "cell_type": "code",
   "execution_count": null,
   "metadata": {},
   "outputs": [],
   "source": [
    "mess_data = np.loadtxt(\"D:\\Postgraduate_Course_Information\\Director Peng\\ML_Time_to_Execution\\execution_torch_code\\data\\data_test_tte/34200_3900_NFLX_2017-05-02_tte.txt\",skiprows=1)\n",
    "index_list = map(int, mess_data[:,0])\n",
    "order_data = np.loadtxt(\"D:\\Postgraduate_Course_Information\\Director Peng\\ML_Time_to_Execution\\execution_torch_code\\data\\data_test_lob/34200_3900_NFLX_2017-05-02_24900000_57900000_orderbook_50.csv\",delimiter = ',')\n",
    "for i in index_list:\n",
    "    print(i)\n"
   ]
  },
  {
   "cell_type": "code",
   "execution_count": 112,
   "metadata": {},
   "outputs": [
    {
     "ename": "RuntimeError",
     "evalue": "Sizes of tensors must match except in dimension 1. Expected size 3 but got size 2 for tensor number 1 in the list.",
     "output_type": "error",
     "traceback": [
      "\u001b[1;31m---------------------------------------------------------------------------\u001b[0m",
      "\u001b[1;31mRuntimeError\u001b[0m                              Traceback (most recent call last)",
      "\u001b[1;32m~\\AppData\\Local\\Temp/ipykernel_20876/1726775855.py\u001b[0m in \u001b[0;36m<module>\u001b[1;34m\u001b[0m\n\u001b[0;32m      1\u001b[0m \u001b[0ma\u001b[0m\u001b[1;33m=\u001b[0m\u001b[0mtorch\u001b[0m\u001b[1;33m.\u001b[0m\u001b[0mtensor\u001b[0m\u001b[1;33m(\u001b[0m\u001b[1;33m[\u001b[0m\u001b[1;33m[\u001b[0m\u001b[1;33m]\u001b[0m\u001b[1;33m,\u001b[0m\u001b[1;33m[\u001b[0m\u001b[1;33m]\u001b[0m\u001b[1;33m,\u001b[0m\u001b[1;33m[\u001b[0m\u001b[1;33m]\u001b[0m\u001b[1;33m]\u001b[0m\u001b[1;33m)\u001b[0m\u001b[1;33m\u001b[0m\u001b[1;33m\u001b[0m\u001b[0m\n\u001b[0;32m      2\u001b[0m \u001b[0mb\u001b[0m\u001b[1;33m=\u001b[0m\u001b[0mtorch\u001b[0m\u001b[1;33m.\u001b[0m\u001b[0mtensor\u001b[0m\u001b[1;33m(\u001b[0m\u001b[1;33m[\u001b[0m\u001b[1;33m[\u001b[0m\u001b[1;36m1\u001b[0m\u001b[1;33m,\u001b[0m\u001b[1;36m2\u001b[0m\u001b[1;33m,\u001b[0m\u001b[1;36m3\u001b[0m\u001b[1;33m]\u001b[0m\u001b[1;33m,\u001b[0m\u001b[1;33m[\u001b[0m\u001b[1;36m3\u001b[0m\u001b[1;33m,\u001b[0m\u001b[1;36m4\u001b[0m\u001b[1;33m,\u001b[0m\u001b[1;36m5\u001b[0m\u001b[1;33m]\u001b[0m\u001b[1;33m]\u001b[0m\u001b[1;33m)\u001b[0m\u001b[1;33m\u001b[0m\u001b[1;33m\u001b[0m\u001b[0m\n\u001b[1;32m----> 3\u001b[1;33m \u001b[0mc\u001b[0m\u001b[1;33m=\u001b[0m\u001b[0mtorch\u001b[0m\u001b[1;33m.\u001b[0m\u001b[0mcat\u001b[0m\u001b[1;33m(\u001b[0m\u001b[1;33m(\u001b[0m\u001b[0ma\u001b[0m\u001b[1;33m,\u001b[0m\u001b[0mb\u001b[0m\u001b[1;33m)\u001b[0m\u001b[1;33m,\u001b[0m\u001b[1;36m1\u001b[0m\u001b[1;33m)\u001b[0m\u001b[1;33m\u001b[0m\u001b[1;33m\u001b[0m\u001b[0m\n\u001b[0m\u001b[0;32m      4\u001b[0m \u001b[0ma\u001b[0m\u001b[1;33m.\u001b[0m\u001b[0mshape\u001b[0m\u001b[1;33m\u001b[0m\u001b[1;33m\u001b[0m\u001b[0m\n",
      "\u001b[1;31mRuntimeError\u001b[0m: Sizes of tensors must match except in dimension 1. Expected size 3 but got size 2 for tensor number 1 in the list."
     ]
    }
   ],
   "source": [
    "a=torch.tensor([[],[],[]])\n",
    "b=torch.tensor([[1,2,3],[3,4,5]])\n",
    "c=torch.cat((a,b),1)\n",
    "a.shape"
   ]
  },
  {
   "cell_type": "code",
   "execution_count": 96,
   "metadata": {},
   "outputs": [],
   "source": [
    "order_index = prepare_order(order_data, time_span, level_span, trans=True)\n",
    "\n",
    "        # according the message in mess_data to get the time feature\n",
    "time_feature = prepare_timex(mess_data, order_index, time_span)"
   ]
  },
  {
   "cell_type": "code",
   "execution_count": 97,
   "metadata": {},
   "outputs": [
    {
     "name": "stdout",
     "output_type": "stream",
     "text": [
      "(26698, 100, 40)\n",
      "(66958, 100, 40)\n"
     ]
    }
   ],
   "source": [
    "print(time_feature.shape)\n",
    "print(order_index.shape)"
   ]
  },
  {
   "cell_type": "code",
   "execution_count": 41,
   "metadata": {},
   "outputs": [],
   "source": [
    "# train_data_list = []\n",
    "train_dataloader_list = []\n",
    "# val_data_list = []\n",
    "val_dataloader_list = []\n",
    "\n",
    "\n",
    "for i in train_file[0:2]:\n",
    "    order_file = [name for name in os.listdir(lob_path) if name.startswith(i[:-8]) and name.endswith('orderbook_50.csv') ]\n",
    "    mess_file = [name for name in os.listdir(lob_path) if name.startswith(i[:-8]) and name.endswith('message_50.csv') ]\n",
    "    mess_data = np.loadtxt(tte_path+'/'+i,skiprows=1)\n",
    "    order_data = np.loadtxt(lob_path+'/'+order_file[0],delimiter = ',')\n",
    "    lob_mess_data = np.loadtxt(lob_path+'/'+mess_file[0],delimiter = ',')\n",
    "    middle_dataset = Dataset(mess_data=mess_data,order_data=order_data,lob_mess_data=lob_mess_data,time_span=time_span,level_span=level_span,trans=True)\n",
    "    middle_dataloader = torch.utils.data.DataLoader(dataset=middle_dataset, batch_size=batch_size, shuffle=True)\n",
    "    train_dataloader_list.append(middle_dataloader)\n",
    "\n",
    "\n",
    "for i in val_file[0:1]:\n",
    "    order_file = [name for name in os.listdir(lob_path) if name.startswith(i[:-8]) and name.endswith('orderbook_50.csv') ]\n",
    "    mess_file = [name for name in os.listdir(lob_path) if name.startswith(i[:-8]) and name.endswith('message_50.csv') ]\n",
    "    mess_data = np.loadtxt(tte_path+'/'+i,skiprows=1)\n",
    "    order_data = np.loadtxt(lob_path+'/'+order_file[0],delimiter = ',')\n",
    "    lob_mess_data = np.loadtxt(lob_path+'/'+mess_file[0],delimiter = ',')\n",
    "    middle_dataset = Dataset(mess_data=mess_data,order_data=order_data,lob_mess_data=lob_mess_data,time_span=time_span,level_span=level_span,trans=True)\n",
    "    middle_dataloader = torch.utils.data.DataLoader(dataset=middle_dataset, batch_size=batch_size, shuffle=True)\n",
    "    val_dataloader_list.append(middle_dataloader)"
   ]
  },
  {
   "cell_type": "code",
   "execution_count": 58,
   "metadata": {},
   "outputs": [
    {
     "name": "stdout",
     "output_type": "stream",
     "text": [
      "torch.Size([64, 1, 100, 40])\n",
      "torch.Size([64, 27])\n",
      "torch.Size([64, 2])\n",
      "torch.Size([64, 37])\n"
     ]
    }
   ],
   "source": [
    "k=0\n",
    "cnn_lstm_model = CNNLSTM(filter_num=filter_num, time_y=time_y)\n",
    "data = train_dataloader_list[0]\n",
    "for i in data:\n",
    "    a,b,c=i\n",
    "    print(a.shape)\n",
    "    print(b.shape)\n",
    "    print(c.shape)\n",
    "    a=a.to(torch.float32)\n",
    "    time_fea = cnn_lstm_model(a)\n",
    "    fea = torch.cat((b,time_fea),dim=1) \n",
    "    print(fea.shape)\n",
    "    k=k+1\n",
    "    if k==1:\n",
    "        break\n",
    "                "
   ]
  },
  {
   "cell_type": "code",
   "execution_count": 53,
   "metadata": {},
   "outputs": [],
   "source": [
    "# device figuragtion\n",
    "device = torch.device('cuda' if torch.cuda.is_available() else 'cpu')"
   ]
  },
  {
   "cell_type": "code",
   "execution_count": 54,
   "metadata": {},
   "outputs": [],
   "source": [
    "# input dim = (batch size, time, feature)\n",
    "class CNNLSTM(nn.Module):\n",
    "    def __init__(self, filter_num, time_y):\n",
    "        super().__init__()\n",
    "        self.time_y = time_y\n",
    "        # convolution blocks\n",
    "        # input dimension , output dimension = 4\n",
    "\n",
    "        #(N,1,100,40)\n",
    "        self.conv1 = nn.Sequential(\n",
    "            nn.Conv2d(in_channels=1, out_channels=filter_num, kernel_size=(1,2), stride=(1,2)),\n",
    "            nn.LeakyReLU(negative_slope=0.01),\n",
    "#           nn.Tanh()\n",
    "            nn.BatchNorm2d(filter_num),\n",
    "            nn.Conv2d(in_channels=filter_num, out_channels=filter_num, kernel_size=(4,1), stride=(1,1), padding='same'),\n",
    "            nn.LeakyReLU(negative_slope=0.01),\n",
    "            nn.BatchNorm2d(filter_num),\n",
    "        )\n",
    "        #(N,32,100,20)\n",
    "        self.conv2 = nn.Sequential(\n",
    "            nn.Conv2d(in_channels=filter_num, out_channels=filter_num, kernel_size=(1,2), stride=(1,2)),\n",
    "            nn.Tanh(),\n",
    "            nn.BatchNorm2d(filter_num),\n",
    "            nn.Conv2d(in_channels=filter_num, out_channels=filter_num, kernel_size=(4,1), stride=(1,1), padding='same'),\n",
    "            nn.Tanh(),\n",
    "            nn.BatchNorm2d(filter_num)\n",
    "        )\n",
    "\n",
    "        #(N,32,100,20)\n",
    "        self.conv3 = nn.Sequential(\n",
    "            nn.Conv2d(in_channels=filter_num, out_channels=filter_num, kernel_size=(1,10)),\n",
    "            nn.LeakyReLU(negative_slope=0.01),\n",
    "            nn.BatchNorm2d(filter_num)\n",
    "        )\n",
    "        \n",
    "        # inception moduels\n",
    "\n",
    "        #(N,32,100,1)\n",
    "        self.inp1 = nn.Sequential(\n",
    "            nn.Conv2d(in_channels=32, out_channels=64, kernel_size=(1,1), padding='same'),\n",
    "            nn.LeakyReLU(negative_slope=0.01),\n",
    "            nn.BatchNorm2d(64),\n",
    "            nn.Conv2d(in_channels=64, out_channels=64, kernel_size=(3,1), padding='same'),\n",
    "            nn.LeakyReLU(negative_slope=0.01),\n",
    "            nn.BatchNorm2d(64),\n",
    "        )\n",
    "\n",
    "        #(N,32,100,1)\n",
    "        self.inp2 = nn.Sequential(\n",
    "            nn.Conv2d(in_channels=32, out_channels=64, kernel_size=(1,1), padding='same'),\n",
    "            nn.LeakyReLU(negative_slope=0.01),\n",
    "            nn.BatchNorm2d(64),\n",
    "            nn.Conv2d(in_channels=64, out_channels=64, kernel_size=(5,1), padding='same'),\n",
    "            nn.LeakyReLU(negative_slope=0.01),\n",
    "            nn.BatchNorm2d(64),\n",
    "        )\n",
    "\n",
    "        #(N,32,100,1)\n",
    "        self.inp3 = nn.Sequential(\n",
    "            nn.MaxPool2d((3, 1), stride=(1, 1), padding=(1, 0)),\n",
    "            nn.Conv2d(in_channels=32, out_channels=64, kernel_size=(1,1), padding='same'),\n",
    "            nn.LeakyReLU(negative_slope=0.01),\n",
    "            nn.BatchNorm2d(64),\n",
    "        )\n",
    "        \n",
    "        # lstm layers\n",
    "\n",
    "        # (N,100,192)\n",
    "        self.lstm = nn.LSTM(input_size=filter_num*6, hidden_size=64, num_layers=1, batch_first=True)\n",
    "        # (N,100,64)\n",
    "        self.fc1 = nn.Linear(64, self.time_y)\n",
    "\n",
    "    def forward(self, x):\n",
    "        # h0: (number of hidden layers, batch size, hidden size)\n",
    "        h0 = torch.zeros(1, x.size(0), 64).to(device)\n",
    "        c0 = torch.zeros(1, x.size(0), 64).to(device)\n",
    "    \n",
    "        x = self.conv1(x)\n",
    "        x = self.conv2(x)\n",
    "        x = self.conv3(x)\n",
    "        \n",
    "        x_inp1 = self.inp1(x)\n",
    "        x_inp2 = self.inp2(x)\n",
    "        x_inp3 = self.inp3(x)  \n",
    "        \n",
    "        x = torch.cat((x_inp1, x_inp2, x_inp3), dim=1)\n",
    "        # (N,192,100,1)\n",
    "#         x = torch.transpose(x, 1, 2)\n",
    "        x = x.permute(0, 2, 1, 3)\n",
    "        # (N,100,192,1)\n",
    "        x = torch.reshape(x, (-1, x.shape[1], x.shape[2]))\n",
    "        # (N,100,192)\n",
    "        x, _ = self.lstm(x, (h0, c0))\n",
    "\n",
    "        # (N,100,64)\n",
    "        x = x[:,-1, :]\n",
    "        # (N,1,64)\n",
    "        x = torch.squeeze(x)\n",
    "        # (N,64)\n",
    "        middle_feature = self.fc1(x)\n",
    "        # (N,10)\n",
    "        # forecast_y = torch.softmax(x, dim=1)\n",
    "        \n",
    "        return middle_feature"
   ]
  },
  {
   "cell_type": "code",
   "execution_count": 55,
   "metadata": {},
   "outputs": [],
   "source": [
    "class NeuralNet(nn.Module):\n",
    "    def __init__(self, input_size, hidden_size1, hidden_size2, num_size=2):\n",
    "        super(NeuralNet, self).__init__()\n",
    "        self.l1 = nn.Linear(input_size, hidden_size1)\n",
    "        self.relu = nn.ReLU()\n",
    "        self.l2 = nn.Linear(hidden_size1, hidden_size2)\n",
    "        self.l3 = nn.Linear(hidden_size2, num_size)\n",
    "        self.norm1 = nn.BatchNorm1d(input_size)\n",
    "        self.norm2 = nn.BatchNorm1d(hidden_size1)\n",
    "        self.norm3 = nn.BatchNorm1d(hidden_size2)\n",
    "        \n",
    "        nn.init.xavier_uniform_(self.l1.weight)\n",
    "        nn.init.xavier_uniform_(self.l2.weight)\n",
    "        nn.init.xavier_uniform_(self.l3.weight)\n",
    "\n",
    "    def forward(self, x):\n",
    "        out = self.norm1(x)\n",
    "        out = self.l1(out)\n",
    "        out = self.norm2(out)\n",
    "        out = self.relu(out)\n",
    "        out = self.l2(out)\n",
    "        out = self.norm3(out)\n",
    "        out = self.relu(out)\n",
    "        out = self.l3(out)\n",
    "        return out"
   ]
  },
  {
   "cell_type": "code",
   "execution_count": 37,
   "metadata": {},
   "outputs": [],
   "source": [
    "# forward iteration parameter setting\n",
    "\n",
    "criterion1 = nn.BCEWithLogitsLoss()\n",
    "criterion2 = nn.MSELoss()\n",
    "cnn_lstm_model = CNNLSTM(filter_num=filter_num, time_y=time_y)\n",
    "mlp_model = NeuralNet(input_size=time_y+27, hidden_size1=hidden_size1, hidden_size2=hidden_size2, num_size=2)\n",
    "cnn_lstm_model.to(device)\n",
    "mlp_model.to(device)\n",
    "cnn_lstm_optimizer = torch.optim.Adam(cnn_lstm_model.parameters(), lr=learning_rate, betas=(0.9, 0.999), eps=1e-08, weight_decay=0)\n",
    "mlp_optimizer = torch.optim.Adam(mlp_model.parameters(), lr=learning_rate, betas=(0.9, 0.999), eps=1e-08, weight_decay=0)"
   ]
  },
  {
   "cell_type": "code",
   "execution_count": 38,
   "metadata": {},
   "outputs": [],
   "source": [
    "# A function to encapsulate the training loop\n",
    "def batch_gd(cnn_lstm_model, mlp_model, criterion1, criterion2, cnn_lstm_optimizer, mlp_optimizer,\n",
    " train_dataloader_list, val_dataloader_list, epochs):\n",
    "    \n",
    "    train_losses = np.zeros(epochs)\n",
    "    val_losses = np.zeros(epochs)\n",
    "    best_val_loss = np.inf\n",
    "    best_val_epoch = 0\n",
    "\n",
    "    # same process epoch first and dataloader next\n",
    "    for it in tqdm(range(epochs)):\n",
    "        \n",
    "        # start batch normalization and drop out\n",
    "        cnn_lstm_model.train()\n",
    "        mlp_model.train()\n",
    "\n",
    "        t0 = datetime.now()\n",
    "        train_loss = []\n",
    "        for train_loader in train_dataloader_list:\n",
    "            for time_fea, pre_fea, targets in train_loader:\n",
    "                # move data to GPU\n",
    "                time_fea, pre_fea, targets = time_fea.to(device, dtype=torch.float), pre_fea.to(device, dtype=torch.float), targets.to(device, dtype=torch.float)\n",
    "                censor_label = targets[:,0]\n",
    "                time_label = targets[:,1]\n",
    "                # print(\"inputs.shape:\", inputs.shape)\n",
    "                # zero the parameter gradients\n",
    "\n",
    "                cnn_lstm_optimizer.zero_grad()\n",
    "                mlp_optimizer.zero_grad()\n",
    "                # Forward pass\n",
    "                # print(\"about to get model output\")\n",
    "                time_fea = cnn_lstm_model(time_fea)\n",
    "                fea = torch.cat((pre_fea,time_fea),dim=1) \n",
    "                \n",
    "\n",
    "                y_predicted = mlp_model(fea)\n",
    "                out1 = y_predicted[:, 0] \n",
    "                out2 = y_predicted[:, 1]\n",
    "                loss1 = criterion1(out1, censor_label)\n",
    "                loss2 = criterion2(out2, time_label)\n",
    "                # print(\"done getting model output\")\n",
    "                # print(\"outputs.shape:\", outputs.shape, \"targets.shape:\", targets.shape)\n",
    "                loss = (censor_weight * loss1 + time_weight * loss2)\n",
    "                train_loss.append(loss.item())\n",
    "                # Backward and optimize\n",
    "                # print(\"about to optimize\")\n",
    "                loss.backward()\n",
    "                cnn_lstm_optimizer.step()\n",
    "                mlp_optimizer.step()\n",
    "                \n",
    "        # Get train loss and test loss\n",
    "        train_loss = np.mean(train_loss) # a little misleading\n",
    "\n",
    "        # no drop out and the value in BN stays same\n",
    "        cnn_lstm_model.eval()\n",
    "        mlp_model.eval()\n",
    "        val_loss = []\n",
    "        for val_loader in val_dataloader_list:\n",
    "            for time_fea, pre_fea, targets in val_loader:\n",
    "                time_fea, pre_fea, targets = time_fea.to(device, dtype=torch.float), pre_fea.to(device, dtype=torch.float), targets.to(device, dtype=torch.float)     \n",
    "                censor_label = targets[:,0]\n",
    "                time_label = targets[:,1]\n",
    "                time_fea = cnn_lstm_model(time_fea)\n",
    "                fea = torch.cat((pre_fea,time_fea),dim=1) \n",
    "                y_predicted = mlp_model(fea)\n",
    "                out1 = y_predicted[:, 0] \n",
    "                out2 = y_predicted[:, 1]\n",
    "                loss1 = criterion1(out1, censor_label)\n",
    "                loss2 = criterion2(out2, time_label)\n",
    "                # print(\"done getting model output\")\n",
    "                # print(\"outputs.shape:\", outputs.shape, \"targets.shape:\", targets.shape)\n",
    "                loss = (time_weight * loss1 + censor_weight * loss2)\n",
    "                val_loss.append(loss.item())\n",
    "        val_loss = np.mean(val_loss)\n",
    "\n",
    "        # Save losses\n",
    "        train_losses[it] = train_loss\n",
    "        val_losses[it] = val_loss\n",
    "        \n",
    "        if val_loss < best_val_loss:\n",
    "            torch.save(cnn_lstm_model, '../model/cnn_lstm_model_pytorch')\n",
    "            torch.save(mlp_model, './mlp_model_pytorch')\n",
    "            best_val_loss = val_loss\n",
    "            best_val_epoch = it\n",
    "            print('model saved')\n",
    "\n",
    "        dt = datetime.now() - t0\n",
    "        print(f'Epoch {it+1}/{epochs}, Train Loss: {train_loss:.4f}, \\\n",
    "          Validation Loss: {val_loss:.4f}, Duration: {dt}, Best Val Epoch: {best_val_epoch}')\n",
    "\n",
    "    return train_losses, val_losses"
   ]
  },
  {
   "cell_type": "code",
   "execution_count": 16,
   "metadata": {},
   "outputs": [
    {
     "ename": "NameError",
     "evalue": "name 'train_loader' is not defined",
     "output_type": "error",
     "traceback": [
      "\u001b[1;31m---------------------------------------------------------------------------\u001b[0m",
      "\u001b[1;31mNameError\u001b[0m                                 Traceback (most recent call last)",
      "\u001b[1;32m~\\AppData\\Local\\Temp/ipykernel_20876/263643525.py\u001b[0m in \u001b[0;36m<module>\u001b[1;34m\u001b[0m\n\u001b[1;32m----> 1\u001b[1;33m \u001b[0mtrain_loader\u001b[0m\u001b[1;33m[\u001b[0m\u001b[1;36m0\u001b[0m\u001b[1;33m]\u001b[0m\u001b[1;33m\u001b[0m\u001b[1;33m\u001b[0m\u001b[0m\n\u001b[0m",
      "\u001b[1;31mNameError\u001b[0m: name 'train_loader' is not defined"
     ]
    }
   ],
   "source": [
    "train_loader[0]"
   ]
  },
  {
   "cell_type": "code",
   "execution_count": 39,
   "metadata": {},
   "outputs": [
    {
     "name": "stderr",
     "output_type": "stream",
     "text": [
      "  0%|          | 0/50 [00:00<?, ?it/s]D:\\APP\\Anaconda3\\envs\\Financial\\lib\\site-packages\\torch\\nn\\modules\\conv.py:442: UserWarning: Using padding='same' with even kernel lengths and odd dilation may require a zero-padded copy of the input be created (Triggered internally at  ..\\aten\\src\\ATen\\native\\Convolution.cpp:647.)\n",
      "  return F.conv2d(input, weight, bias, self.stride,\n",
      "  2%|▏         | 1/50 [06:19<5:09:56, 379.53s/it]"
     ]
    },
    {
     "name": "stdout",
     "output_type": "stream",
     "text": [
      "model saved\n",
      "Epoch 1/50, Train Loss: 1.0298,           Validation Loss: 18.7818, Duration: 0:06:19.524086, Best Val Epoch: 0\n"
     ]
    },
    {
     "name": "stderr",
     "output_type": "stream",
     "text": [
      "  2%|▏         | 1/50 [09:52<8:03:48, 592.42s/it]\n"
     ]
    },
    {
     "ename": "KeyboardInterrupt",
     "evalue": "",
     "output_type": "error",
     "traceback": [
      "\u001b[1;31m---------------------------------------------------------------------------\u001b[0m",
      "\u001b[1;31mKeyboardInterrupt\u001b[0m                         Traceback (most recent call last)",
      "\u001b[1;32m~\\AppData\\Local\\Temp/ipykernel_20876/2860672571.py\u001b[0m in \u001b[0;36m<module>\u001b[1;34m\u001b[0m\n\u001b[1;32m----> 1\u001b[1;33m train_losses, val_losses = batch_gd(cnn_lstm_model=cnn_lstm_model, mlp_model=mlp_model, criterion1=criterion1, criterion2=criterion2, \n\u001b[0m\u001b[0;32m      2\u001b[0m   cnn_lstm_optimizer=cnn_lstm_optimizer, mlp_optimizer=mlp_optimizer,train_dataloader_list=train_dataloader_list, val_dataloader_list=val_dataloader_list, epochs=epochs)\n",
      "\u001b[1;32m~\\AppData\\Local\\Temp/ipykernel_20876/607747499.py\u001b[0m in \u001b[0;36mbatch_gd\u001b[1;34m(cnn_lstm_model, mlp_model, criterion1, criterion2, cnn_lstm_optimizer, mlp_optimizer, train_dataloader_list, val_dataloader_list, epochs)\u001b[0m\n\u001b[0;32m     44\u001b[0m                 \u001b[1;31m# Backward and optimize\u001b[0m\u001b[1;33m\u001b[0m\u001b[1;33m\u001b[0m\u001b[0m\n\u001b[0;32m     45\u001b[0m                 \u001b[1;31m# print(\"about to optimize\")\u001b[0m\u001b[1;33m\u001b[0m\u001b[1;33m\u001b[0m\u001b[0m\n\u001b[1;32m---> 46\u001b[1;33m                 \u001b[0mloss\u001b[0m\u001b[1;33m.\u001b[0m\u001b[0mbackward\u001b[0m\u001b[1;33m(\u001b[0m\u001b[1;33m)\u001b[0m\u001b[1;33m\u001b[0m\u001b[1;33m\u001b[0m\u001b[0m\n\u001b[0m\u001b[0;32m     47\u001b[0m                 \u001b[0mcnn_lstm_optimizer\u001b[0m\u001b[1;33m.\u001b[0m\u001b[0mstep\u001b[0m\u001b[1;33m(\u001b[0m\u001b[1;33m)\u001b[0m\u001b[1;33m\u001b[0m\u001b[1;33m\u001b[0m\u001b[0m\n\u001b[0;32m     48\u001b[0m                 \u001b[0mmlp_optimizer\u001b[0m\u001b[1;33m.\u001b[0m\u001b[0mstep\u001b[0m\u001b[1;33m(\u001b[0m\u001b[1;33m)\u001b[0m\u001b[1;33m\u001b[0m\u001b[1;33m\u001b[0m\u001b[0m\n",
      "\u001b[1;32mD:\\APP\\Anaconda3\\envs\\Financial\\lib\\site-packages\\torch\\_tensor.py\u001b[0m in \u001b[0;36mbackward\u001b[1;34m(self, gradient, retain_graph, create_graph, inputs)\u001b[0m\n\u001b[0;32m    305\u001b[0m                 \u001b[0mcreate_graph\u001b[0m\u001b[1;33m=\u001b[0m\u001b[0mcreate_graph\u001b[0m\u001b[1;33m,\u001b[0m\u001b[1;33m\u001b[0m\u001b[1;33m\u001b[0m\u001b[0m\n\u001b[0;32m    306\u001b[0m                 inputs=inputs)\n\u001b[1;32m--> 307\u001b[1;33m         \u001b[0mtorch\u001b[0m\u001b[1;33m.\u001b[0m\u001b[0mautograd\u001b[0m\u001b[1;33m.\u001b[0m\u001b[0mbackward\u001b[0m\u001b[1;33m(\u001b[0m\u001b[0mself\u001b[0m\u001b[1;33m,\u001b[0m \u001b[0mgradient\u001b[0m\u001b[1;33m,\u001b[0m \u001b[0mretain_graph\u001b[0m\u001b[1;33m,\u001b[0m \u001b[0mcreate_graph\u001b[0m\u001b[1;33m,\u001b[0m \u001b[0minputs\u001b[0m\u001b[1;33m=\u001b[0m\u001b[0minputs\u001b[0m\u001b[1;33m)\u001b[0m\u001b[1;33m\u001b[0m\u001b[1;33m\u001b[0m\u001b[0m\n\u001b[0m\u001b[0;32m    308\u001b[0m \u001b[1;33m\u001b[0m\u001b[0m\n\u001b[0;32m    309\u001b[0m     \u001b[1;32mdef\u001b[0m \u001b[0mregister_hook\u001b[0m\u001b[1;33m(\u001b[0m\u001b[0mself\u001b[0m\u001b[1;33m,\u001b[0m \u001b[0mhook\u001b[0m\u001b[1;33m)\u001b[0m\u001b[1;33m:\u001b[0m\u001b[1;33m\u001b[0m\u001b[1;33m\u001b[0m\u001b[0m\n",
      "\u001b[1;32mD:\\APP\\Anaconda3\\envs\\Financial\\lib\\site-packages\\torch\\autograd\\__init__.py\u001b[0m in \u001b[0;36mbackward\u001b[1;34m(tensors, grad_tensors, retain_graph, create_graph, grad_variables, inputs)\u001b[0m\n\u001b[0;32m    152\u001b[0m         \u001b[0mretain_graph\u001b[0m \u001b[1;33m=\u001b[0m \u001b[0mcreate_graph\u001b[0m\u001b[1;33m\u001b[0m\u001b[1;33m\u001b[0m\u001b[0m\n\u001b[0;32m    153\u001b[0m \u001b[1;33m\u001b[0m\u001b[0m\n\u001b[1;32m--> 154\u001b[1;33m     Variable._execution_engine.run_backward(\n\u001b[0m\u001b[0;32m    155\u001b[0m         \u001b[0mtensors\u001b[0m\u001b[1;33m,\u001b[0m \u001b[0mgrad_tensors_\u001b[0m\u001b[1;33m,\u001b[0m \u001b[0mretain_graph\u001b[0m\u001b[1;33m,\u001b[0m \u001b[0mcreate_graph\u001b[0m\u001b[1;33m,\u001b[0m \u001b[0minputs\u001b[0m\u001b[1;33m,\u001b[0m\u001b[1;33m\u001b[0m\u001b[1;33m\u001b[0m\u001b[0m\n\u001b[0;32m    156\u001b[0m         allow_unreachable=True, accumulate_grad=True)  # allow_unreachable flag\n",
      "\u001b[1;31mKeyboardInterrupt\u001b[0m: "
     ]
    }
   ],
   "source": [
    "train_losses, val_losses = batch_gd(cnn_lstm_model=cnn_lstm_model, mlp_model=mlp_model, criterion1=criterion1, criterion2=criterion2, \n",
    "  cnn_lstm_optimizer=cnn_lstm_optimizer, mlp_optimizer=mlp_optimizer,train_dataloader_list=train_dataloader_list, val_dataloader_list=val_dataloader_list, epochs=epochs)"
   ]
  },
  {
   "cell_type": "code",
   "execution_count": 162,
   "metadata": {},
   "outputs": [
    {
     "data": {
      "image/png": "[encoded data removed]",
      "text/plain": [
       "<Figure size 1080x432 with 1 Axes>"
      ]
     },
     "metadata": {
      "needs_background": "light"
     },
     "output_type": "display_data"
    }
   ],
   "source": [
    "plt.figure(figsize=(15,6))\n",
    "plt.plot(train_losses, label='train loss')\n",
    "plt.plot(val_losses, label='validation loss')\n",
    "plt.legend()\n",
    "f = plt.gcf()\n",
    "f.savefig('../picture/result.png')"
   ]
  },
  {
   "cell_type": "code",
   "execution_count": 230,
   "metadata": {},
   "outputs": [
    {
     "ename": "RuntimeError",
     "evalue": "Tensors must have same number of dimensions: got 2 and 1",
     "output_type": "error",
     "traceback": [
      "\u001b[1;31m---------------------------------------------------------------------------\u001b[0m",
      "\u001b[1;31mRuntimeError\u001b[0m                              Traceback (most recent call last)",
      "\u001b[1;32m~\\AppData\\Local\\Temp/ipykernel_10924/3589099124.py\u001b[0m in \u001b[0;36m<module>\u001b[1;34m\u001b[0m\n\u001b[0;32m      1\u001b[0m \u001b[0ma\u001b[0m \u001b[1;33m=\u001b[0m \u001b[0mtorch\u001b[0m\u001b[1;33m.\u001b[0m\u001b[0mtensor\u001b[0m\u001b[1;33m(\u001b[0m\u001b[1;33m[\u001b[0m\u001b[1;33m[\u001b[0m\u001b[1;36m1\u001b[0m\u001b[1;33m,\u001b[0m\u001b[1;36m2\u001b[0m\u001b[1;33m,\u001b[0m\u001b[1;36m3\u001b[0m\u001b[1;33m]\u001b[0m\u001b[1;33m,\u001b[0m\u001b[1;33m[\u001b[0m\u001b[1;36m4\u001b[0m\u001b[1;33m,\u001b[0m\u001b[1;36m5\u001b[0m\u001b[1;33m,\u001b[0m\u001b[1;36m6\u001b[0m\u001b[1;33m]\u001b[0m\u001b[1;33m,\u001b[0m\u001b[1;33m[\u001b[0m\u001b[1;36m7\u001b[0m\u001b[1;33m,\u001b[0m\u001b[1;36m8\u001b[0m\u001b[1;33m,\u001b[0m\u001b[1;36m9\u001b[0m\u001b[1;33m]\u001b[0m\u001b[1;33m]\u001b[0m\u001b[1;33m)\u001b[0m\u001b[1;33m\u001b[0m\u001b[1;33m\u001b[0m\u001b[0m\n\u001b[0;32m      2\u001b[0m \u001b[0mb\u001b[0m \u001b[1;33m=\u001b[0m \u001b[0mtorch\u001b[0m\u001b[1;33m.\u001b[0m\u001b[0mtensor\u001b[0m\u001b[1;33m(\u001b[0m\u001b[1;33m[\u001b[0m\u001b[1;36m1\u001b[0m\u001b[1;33m,\u001b[0m\u001b[1;36m2\u001b[0m\u001b[1;33m,\u001b[0m\u001b[1;36m3\u001b[0m\u001b[1;33m]\u001b[0m\u001b[1;33m)\u001b[0m\u001b[1;33m\u001b[0m\u001b[1;33m\u001b[0m\u001b[0m\n\u001b[1;32m----> 3\u001b[1;33m \u001b[0mc\u001b[0m \u001b[1;33m=\u001b[0m \u001b[0mtorch\u001b[0m\u001b[1;33m.\u001b[0m\u001b[0mcat\u001b[0m\u001b[1;33m(\u001b[0m\u001b[1;33m(\u001b[0m\u001b[0ma\u001b[0m\u001b[1;33m,\u001b[0m\u001b[0mb\u001b[0m\u001b[1;33m)\u001b[0m\u001b[1;33m,\u001b[0m\u001b[0mdim\u001b[0m\u001b[1;33m=\u001b[0m\u001b[1;36m1\u001b[0m\u001b[1;33m)\u001b[0m\u001b[1;33m\u001b[0m\u001b[1;33m\u001b[0m\u001b[0m\n\u001b[0m",
      "\u001b[1;31mRuntimeError\u001b[0m: Tensors must have same number of dimensions: got 2 and 1"
     ]
    }
   ],
   "source": [
    "a = torch.tensor([[1,2,3],[4,5,6],[7,8,9]])\n",
    "b = torch.tensor([1,2,3])\n",
    "c = torch.cat((a,b),dim=1)"
   ]
  }
 ],
 "metadata": {
  "interpreter": {
   "hash": "326f373c6e0d43889a92efc6bf1e375f946ae88ffdce40ee1caa691dc5b3ab7b"
  },
  "kernelspec": {
   "display_name": "Python 3.9.7 ('Financial')",
   "language": "python",
   "name": "python3"
  },
  "language_info": {
   "codemirror_mode": {
    "name": "ipython",
    "version": 3
   },
   "file_extension": ".py",
   "mimetype": "text/x-python",
   "name": "python",
   "nbconvert_exporter": "python",
   "pygments_lexer": "ipython3",
   "version": "3.9.7"
  },
  "orig_nbformat": 4
 },
 "nbformat": 4,
 "nbformat_minor": 2
}
